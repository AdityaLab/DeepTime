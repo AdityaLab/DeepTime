{
 "cells": [
  {
   "cell_type": "code",
   "execution_count": 2,
   "metadata": {},
   "outputs": [],
   "source": [
    "import os\n",
    "import numpy as np\n",
    "import pandas as pd\n",
    "import glob\n",
    "import re\n",
    "import torch\n",
    "from torch.utils.data import Dataset, DataLoader\n",
    "from sklearn.preprocessing import StandardScaler\n",
    "\n",
    "from sktime.datasets import load_from_tsfile_to_dataframe\n",
    "import warnings\n",
    "from collections import Counter\n",
    "\n",
    "warnings.filterwarnings('ignore')"
   ]
  },
  {
   "cell_type": "code",
   "execution_count": 3,
   "metadata": {},
   "outputs": [],
   "source": [
    "filepath=\"/raid/hliu763/llama3_online/Time-Series-Library/MM_Dataset/RCW/RCW_TEST.ts\"\n",
    "df, labels = load_from_tsfile_to_dataframe(filepath, return_separate_X_and_y=True, replace_missing_vals_with='NaN')\n",
    "\n",
    "# Count samples in each class\n",
    "label_counts = Counter(labels)\n",
    "min_count = min(label_counts.values())\n",
    "\n",
    "# Create a dictionary to store indices for each class\n",
    "class_indices = {label: np.where(labels == label)[0] for label in label_counts}\n",
    "\n",
    "# Randomly select 'min_count' samples from each class\n",
    "balanced_indices = []\n",
    "for label, indices in class_indices.items():\n",
    "    balanced_indices.extend(np.random.choice(indices, min_count, replace=False))\n",
    "\n",
    "# Sort the indices to maintain the original order\n",
    "balanced_indices.sort()\n",
    "\n",
    "# Select the balanced data\n",
    "balanced_df = df.iloc[balanced_indices].reset_index(drop=True)\n",
    "balanced_labels = labels[balanced_indices]\n",
    "\n",
    "# If the data needs to be reshaped, do it safely\n",
    "reshaped_data = []\n",
    "for idx in balanced_df.index:\n",
    "    row_data = {col: balanced_df.loc[idx, col] for col in balanced_df.columns}\n",
    "    reshaped_data.append(pd.DataFrame(row_data))\n",
    "\n",
    "balanced_df = pd.concat(reshaped_data, axis=0).reset_index(drop=True)\n",
    "\n",
    "df=balanced_df\n",
    "labels=balanced_labels"
   ]
  },
  {
   "cell_type": "code",
   "execution_count": 4,
   "metadata": {},
   "outputs": [],
   "source": [
    "labels = pd.Series(labels, dtype=\"category\")\n",
    "class_names = labels.cat.categories\n",
    "labels_df = pd.DataFrame(labels.cat.codes,\n",
    "                            dtype=np.int8)  # int8-32 gives an error when using nn.CrossEntropyLoss\n"
   ]
  },
  {
   "cell_type": "code",
   "execution_count": 5,
   "metadata": {},
   "outputs": [],
   "source": [
    "def safe_len(x):\n",
    "            if isinstance(x, (list, np.ndarray)):\n",
    "                return len(x)\n",
    "            elif isinstance(x, (float, int)):\n",
    "                return 1  # 或者您可能想要返回 0，取决于您的需求\n",
    "            else:\n",
    "                return len(str(x))  # 作为后备选项，将其他类型转换为字符串\n",
    "\n",
    "lengths = df.applymap(safe_len).values"
   ]
  }
 ],
 "metadata": {
  "kernelspec": {
   "display_name": "NewTimeLib",
   "language": "python",
   "name": "python3"
  },
  "language_info": {
   "codemirror_mode": {
    "name": "ipython",
    "version": 3
   },
   "file_extension": ".py",
   "mimetype": "text/x-python",
   "name": "python",
   "nbconvert_exporter": "python",
   "pygments_lexer": "ipython3",
   "version": "3.8.19"
  }
 },
 "nbformat": 4,
 "nbformat_minor": 2
}
